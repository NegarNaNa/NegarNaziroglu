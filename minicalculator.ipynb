{
  "nbformat": 4,
  "nbformat_minor": 0,
  "metadata": {
    "colab": {
      "provenance": [],
      "authorship_tag": "ABX9TyMHQ98ozjgwwBuG1RqKR3Qa",
      "include_colab_link": true
    },
    "kernelspec": {
      "name": "python3",
      "display_name": "Python 3"
    },
    "language_info": {
      "name": "python"
    }
  },
  "cells": [
    {
      "cell_type": "markdown",
      "metadata": {
        "id": "view-in-github",
        "colab_type": "text"
      },
      "source": [
        "<a href=\"https://colab.research.google.com/github/NegarNaNa/NegarNaziroglu/blob/main/minicalculator.ipynb\" target=\"_parent\"><img src=\"https://colab.research.google.com/assets/colab-badge.svg\" alt=\"Open In Colab\"/></a>"
      ]
    },
    {
      "cell_type": "code",
      "execution_count": 2,
      "metadata": {
        "colab": {
          "base_uri": "https://localhost:8080/"
        },
        "id": "hW-nmE9XJhrl",
        "outputId": "03b73a5e-72dc-4795-e7f9-d5a266482de6"
      },
      "outputs": [
        {
          "output_type": "stream",
          "name": "stdout",
          "text": [
            "select operation:\n",
            "1. Add\n",
            "2. Subtract\n",
            "3. Multiply\n",
            "4. Divide\n",
            "enter choice (1/2/3/4):5\n",
            "enter first number:1\n",
            "enter second number:3\n",
            "Invalid input\n"
          ]
        }
      ],
      "source": [
        "#Simple Calculator\n",
        "def add (x,y):\n",
        "  return x+y\n",
        "def subtract (x,y):\n",
        "    return x-y\n",
        "def multiply (x,y):\n",
        "    return x*y\n",
        "def divide (x,y):\n",
        "  if y!=0:\n",
        "    return x/y\n",
        "  else:\n",
        "      return \"Error! Division By Zero.\"\n",
        "print(\"select operation:\")\n",
        "print(\"1. Add\")\n",
        "print(\"2. Subtract\")\n",
        "print(\"3. Multiply\")\n",
        "print(\"4. Divide\")\n",
        "# input data\n",
        "choice= input(\"enter choice (1/2/3/4):\")\n",
        "num1= float(input(\"enter first number:\"))\n",
        "num2= float(input(\"enter second number:\"))\n",
        "if choice =='1':\n",
        "    print(f\"{num1} + {num2} = {add(num1, num2)}\")\n",
        "elif choice == '2':\n",
        "    print(f\"{num1} - {num2} = {subtract(num1, num2)}\")\n",
        "elif choice == '3':\n",
        "    print(f\"{num1} * {num2} = {multiply(num1, num2)}\")\n",
        "elif choice == '4':\n",
        "    print(f\"{num1} / {num2} = {divide(num1, num2)}\")\n",
        "else:\n",
        "    print(\"Invalid input\")\n",
        "\n"
      ]
    }
  ]
}